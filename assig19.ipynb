{
  "nbformat": 4,
  "nbformat_minor": 0,
  "metadata": {
    "colab": {
      "name": "assig19",
      "version": "0.3.2",
      "views": {},
      "default_view": {},
      "provenance": [],
      "collapsed_sections": []
    },
    "kernelspec": {
      "name": "python3",
      "display_name": "Python 3"
    }
  },
  "cells": [
    {
      "metadata": {
        "id": "Eb32YjuGABri",
        "colab_type": "text"
      },
      "cell_type": "markdown",
      "source": [
        "#Q1-find out the mean of the elements using basic numpy functions"
      ]
    },
    {
      "metadata": {
        "id": "CFdx2bJeACJ1",
        "colab_type": "code",
        "colab": {
          "autoexec": {
            "startup": false,
            "wait_interval": 0
          }
        }
      },
      "cell_type": "code",
      "source": [
        "//import numpy as np\n",
        "s=np.random.rand(10,1)\n",
        "print(s)\n",
        "print(\"mean is:\",s.mean())\n",
        "print(\\n)\n"
      ],
      "execution_count": 0,
      "outputs": []
    },
    {
      "metadata": {
        "id": "EfGSi5ULAP8v",
        "colab_type": "text"
      },
      "cell_type": "markdown",
      "source": [
        "[[0.24542023]\n",
        " [0.98506082]\n",
        " [0.39986031]\n",
        " [0.53732022]\n",
        " [0.28984703]\n",
        " [0.19627735]\n",
        " [0.35137194]\n",
        " [0.70058564]\n",
        " [0.79508892]\n",
        " [0.60864855]]\n",
        "mean is: 0.5109481010224634"
      ]
    },
    {
      "metadata": {
        "id": "BPgRu4iVAWAl",
        "colab_type": "text"
      },
      "cell_type": "markdown",
      "source": [
        "#Create the Numpy array and Find Variance and Standard Deviation"
      ]
    },
    {
      "metadata": {
        "id": "rFMrj_WAAapF",
        "colab_type": "code",
        "colab": {
          "autoexec": {
            "startup": false,
            "wait_interval": 0
          }
        }
      },
      "cell_type": "code",
      "source": [
        "import numpy as np\n",
        "A=np.random.randint(0,200,(10,20),int)\n",
        "B=np.random.randint(0,200,(20,25),int)\n",
        "x=np.matmul(A,B)\n",
        "print(x)\n",
        "print(\"Sum of x is = \",x.sum())"
      ],
      "execution_count": 0,
      "outputs": []
    },
    {
      "metadata": {
        "id": "4V-PDzC5AuZ5",
        "colab_type": "text"
      },
      "cell_type": "markdown",
      "source": [
        "\n",
        "[[225467 252679 283781 263174 280072 281988 234502 195442 247300 210578\n",
        "  241172 213747 219809 214144 217746 271879 292165 306504 270332 217640\n",
        "  222868 263107 231199 228908 308597]\n",
        " [189849 205768 249732 172013 206742 228720 180287 158006 177510 160397\n",
        "  173969 186326 188122 161903 165086 262173 226589 258395 214583 172157\n",
        "  186399 217575 167679 175320 264218]\n",
        " [221407 260257 265273 236408 254665 300212 214263 167709 261196 215791\n",
        "  246817 237012 223879 214480 208668 288910 294416 308449 266543 215609\n",
        "  225535 251287 230728 205020 338152]\n",
        " [170851 178359 217320 214220 190392 238933 190420 149861 187735 148797\n",
        "  202945 177923 182027 169070 162861 237569 237604 265867 230176 170519\n",
        "  215989 229076 199683 178245 268699]\n",
        " [168948 218580 227429 183300 239896 237602 153507 170806 208629 178674\n",
        "  199136 189218 187555 189766 176133 217461 247247 256026 231334 190065\n",
        "  213060 222906 223736 197889 261397]\n",
        " [176261 167796 197653 150139 175822 204616 151466 148783 170865 149433\n",
        "  165805 172535 138858 153672 131962 189373 190161 220566 195147 159854\n",
        "  158737 177706 179480 153680 208249]\n",
        " [157680 198048 191389 179354 199791 196795 121306 153596 221291 150070\n",
        "  161469 186352 187433 208840 164870 175655 210953 216343 181870 180785\n",
        "  164354 193775 187861 180760 211547]\n",
        " [173430 183129 230089 183602 201357 207438 177353 162328 159920 152329\n",
        "  177962 177444 191436 174577 147840 227846 187584 254545 178111 156624\n",
        "  185764 183120 193805 158823 239003]\n",
        " [184597 181235 213799 215042 188926 231533 155111 163676 210274 167526\n",
        "  187849 209460 191072 216196 166402 242046 240173 262252 203378 168013\n",
        "  180584 223058 185323 182657 234932]\n",
        " [194216 180345 244811 154777 216453 215376 157624 189689 183168 154833\n",
        "  163454 186578 192983 198785 168686 209120 231033 266056 193324 167185\n",
        "  202205 227631 214435 151780 233591]]\n",
        "Sum of x is =  50941962"
      ]
    },
    {
      "metadata": {
        "id": "gWHhCYRqA0nh",
        "colab_type": "text"
      },
      "cell_type": "markdown",
      "source": [
        "#Create a Numpy Array"
      ]
    },
    {
      "metadata": {
        "id": "borlugsTA0_I",
        "colab_type": "code",
        "colab": {
          "autoexec": {
            "startup": false,
            "wait_interval": 0
          }
        }
      },
      "cell_type": "code",
      "source": [
        "import numpy as np\n",
        "\n",
        "a=np.random.randint(0,150,(10,1))\n",
        "def fun(x):\n",
        "    y=1/(1+np.exp(-x))\n",
        "    return y\n",
        "  \n",
        "list=[]\n",
        "for x in a:\n",
        "    list.append(fun(x))\n",
        "b=np.array(list)\n",
        "print(b)\n"
      ],
      "execution_count": 0,
      "outputs": []
    },
    {
      "metadata": {
        "id": "Gy56ryeEA1f6",
        "colab_type": "text"
      },
      "cell_type": "markdown",
      "source": [
        "op:\n",
        "[[1.        ]\n",
        " [1.        ]\n",
        " [1.        ]\n",
        " [1.        ]\n",
        " [1.        ]\n",
        " [1.        ]\n",
        " [1.        ]\n",
        " [1.        ]\n",
        " [0.5       ]\n",
        " [0.99966465]]"
      ]
    }
  ]
}