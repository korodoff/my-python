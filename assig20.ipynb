{
  "nbformat": 4,
  "nbformat_minor": 0,
  "metadata": {
    "colab": {
      "name": "Untitled1.ipynb",
      "version": "0.3.2",
      "views": {},
      "default_view": {},
      "provenance": []
    },
    "kernelspec": {
      "name": "python3",
      "display_name": "Python 3"
    }
  },
  "cells": [
    {
      "metadata": {
        "id": "ZchydlrLMDu1",
        "colab_type": "text"
      },
      "cell_type": "markdown",
      "source": [
        "#Create your dataframe"
      ]
    },
    {
      "metadata": {
        "id": "en8iYupXML2R",
        "colab_type": "code",
        "colab": {
          "autoexec": {
            "startup": false,
            "wait_interval": 0
          }
        }
      },
      "cell_type": "code",
      "source": [
        "import pandas as p\n",
        "d={'name':['ruth','jsaon','vaas','prophet'],'age':[21,23,34,32],'mail':['ruth@gmail.com','jsaon@gmail.com','vaas@gmail.com','prophet@gmai.com'],'ph_no':[432356,7685567,345634,633665]}\n",
        "df=p.DataFrame(d)\n",
        "df=df[[\"name\",\"age\",\"mail\",\"ph_no\"]]\n",
        "print(df)"
      ],
      "execution_count": 0,
      "outputs": []
    },
    {
      "metadata": {
        "id": "pftSkci6MEL0",
        "colab_type": "text"
      },
      "cell_type": "markdown",
      "source": [
        "OP:      name  age              mail    ph_no\n",
        "0     ruth   21    ruth@gmail.com   432356\n",
        "1    jsaon   23   jsaon@gmail.com  7685567\n",
        "2     vaas   34    vaas@gmail.com   345634\n",
        "3  prophet   32  prophet@gmai.com   633665\n"
      ]
    },
    {
      "metadata": {
        "id": "e5YCZXKJMYg8",
        "colab_type": "text"
      },
      "cell_type": "markdown",
      "source": [
        "#Download a Data Set and perform the task"
      ]
    },
    {
      "metadata": {
        "id": "c8_UbMYlMdqa",
        "colab_type": "code",
        "colab": {
          "autoexec": {
            "startup": false,
            "wait_interval": 0
          }
        }
      },
      "cell_type": "code",
      "source": [
        "import pandas as p\n",
        "df=p.read_csv(\"https://raw.githubusercontent.com/Shreyas3108/Weather/master/weather.csv\")\n",
        "print(\"the 1st five row is \\n\",df.head(5))\n",
        "print(\"the 10th row is \\n\",df.head(10))\n",
        "print(\"10th row is \\n\",df.tail(5))\n",
        "print(df.describe())\n",
        "print(df.Location.describe())"
      ],
      "execution_count": 0,
      "outputs": []
    },
    {
      "metadata": {
        "id": "WD1vEXiiM23k",
        "colab_type": "text"
      },
      "cell_type": "markdown",
      "source": [
        "op:the 1st five row is\n",
        "         Date  Location  MinTemp      ...       RainToday  RISK_MM  RainTomorrow\n",
        "0  11/1/2007  Canberra      8.0      ...              No      3.6           Yes\n",
        "1  11/2/2007  Canberra     14.0      ...             Yes      3.6           Yes\n",
        "2  11/3/2007  Canberra     13.7      ...             Yes     39.8           Yes\n",
        "3  11/4/2007  Canberra     13.3      ...             Yes      2.8           Yes\n",
        "4  11/5/2007  Canberra      7.6      ...             Yes      0.0            No\n",
        "\n",
        "[5 rows x 24 columns]\n",
        "the 10th row is\n",
        "          Date  Location  MinTemp      ...       RainToday  RISK_MM  RainTomorrow\n",
        "0   11/1/2007  Canberra      8.0      ...              No      3.6           Yes\n",
        "1   11/2/2007  Canberra     14.0      ...             Yes      3.6           Yes\n",
        "2   11/3/2007  Canberra     13.7      ...             Yes     39.8           Yes\n",
        "3   11/4/2007  Canberra     13.3      ...             Yes      2.8           Yes\n",
        "4   11/5/2007  Canberra      7.6      ...             Yes      0.0            No\n",
        "5   11/6/2007  Canberra      6.2      ...              No      0.2            No\n",
        "6   11/7/2007  Canberra      6.1      ...              No      0.0            No\n",
        "7   11/8/2007  Canberra      8.3      ...              No      0.0            No\n",
        "8   11/9/2007  Canberra      8.8      ...              No     16.2           Yes\n",
        "9  11/10/2007  Canberra      8.4      ...             Yes      0.0            No\n",
        "\n",
        "[10 rows x 24 columns]\n",
        "10th row is\n",
        "            Date  Location  MinTemp      ...       RainToday  RISK_MM  RainTomorrow\n",
        "361  10/27/2008  Canberra      9.0      ...              No      0.0            No\n",
        "362  10/28/2008  Canberra      7.1      ...              No      0.0            No\n",
        "363  10/29/2008  Canberra     12.5      ...              No      0.0            No\n",
        "364  10/30/2008  Canberra     12.5      ...              No      0.0            No\n",
        "365  10/31/2008  Canberra     12.3      ...              No      0.0            No\n",
        "\n",
        "[5 rows x 24 columns]\n",
        "          MinTemp     MaxTemp     ...         Temp3pm     RISK_MM\n",
        "count  366.000000  366.000000     ...      366.000000  366.000000\n",
        "mean     7.265574   20.550273     ...       19.230874    1.428415\n",
        "std      6.025800    6.690516     ...        6.640346    4.225800\n",
        "min     -5.300000    7.600000     ...        5.100000    0.000000\n",
        "25%      2.300000   15.025000     ...       14.150000    0.000000\n",
        "50%      7.450000   19.650000     ...       18.550000    0.000000\n",
        "75%     12.500000   25.500000     ...       24.000000    0.200000\n",
        "max     20.900000   35.800000     ...       34.500000   39.800000\n",
        "\n",
        "[8 rows x 17 columns]\n",
        "count          366\n",
        "unique           1\n",
        "top       Canberra\n",
        "freq           366\n",
        "Name: Location, dtype: object"
      ]
    }
  ]
}